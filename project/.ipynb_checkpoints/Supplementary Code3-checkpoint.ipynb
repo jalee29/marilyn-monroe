{
 "cells": [
  {
   "cell_type": "code",
   "execution_count": 1,
   "id": "ce392939",
   "metadata": {},
   "outputs": [],
   "source": [
    "import urllib.request\n",
    "from PIL import Image\n",
    "from matplotlib.image import imread\n",
    "import numpy as np\n",
    "from numpy.linalg import svd\n",
    "import matplotlib.pyplot as plt\n",
    "import io\n",
    "from scipy.stats import entropy\n",
    "import copy\n",
    "import pandas as pd"
   ]
  },
  {
   "cell_type": "code",
   "execution_count": 2,
   "id": "39e9cb46",
   "metadata": {},
   "outputs": [],
   "source": [
    "OrangeUrl = 'https://images.squarespace-cdn.com/content/v1/5a98653d96e76f7f7dc569c7/1652203191222-16N8MP7K7EACDQ1EVJ7E/shot_orange_marilyn_1964-19604.png?format=750w'\n",
    "\n",
    "with urllib.request.urlopen(OrangeUrl) as response:\n",
    "    image_data = response.read()\n",
    "\n",
    "image_bytes = io.BytesIO(image_data)\n",
    "\n",
    "image = Image.open(image_bytes)\n",
    "\n",
    "orange = image.convert(\"RGB\") #gives image\n",
    "\n",
    "orange_array = np.array(orange) #gives RGB matrix\n"
   ]
  },
  {
   "cell_type": "code",
   "execution_count": 3,
   "id": "4e6c1258",
   "metadata": {},
   "outputs": [],
   "source": [
    "RedUrl = 'https://images.squarespace-cdn.com/content/v1/5a98653d96e76f7f7dc569c7/1652203192094-MIQYNYEIJYJBY957F7T7/shot_red_marilyn_1964-19604.png?format=750w'\n",
    "\n",
    "with urllib.request.urlopen(RedUrl) as response:\n",
    "    image_data = response.read()\n",
    "\n",
    "image_bytes = io.BytesIO(image_data)\n",
    "\n",
    "image = Image.open(image_bytes)\n",
    "\n",
    "red = image.convert(\"RGB\") #gives image\n",
    "\n",
    "red_array = np.array(red) #gives matrix"
   ]
  },
  {
   "cell_type": "code",
   "execution_count": 4,
   "id": "5af39d72",
   "metadata": {},
   "outputs": [],
   "source": [
    "TurqUrl = 'https://images.squarespace-cdn.com/content/v1/5a98653d96e76f7f7dc569c7/1652213792503-2Q9A294S9UOFEBQZQQNP/shot_turq_marilyn_1964-19604.png?format=750w'\n",
    "\n",
    "with urllib.request.urlopen(TurqUrl) as response:\n",
    "    image_data = response.read()\n",
    "\n",
    "image_bytes = io.BytesIO(image_data)\n",
    "\n",
    "image = Image.open(image_bytes)\n",
    "\n",
    "turq = image.convert(\"RGB\") #gives image\n",
    "\n",
    "turq_array = np.array(turq) #gives matrix"
   ]
  },
  {
   "cell_type": "code",
   "execution_count": 5,
   "id": "57c8dab7",
   "metadata": {},
   "outputs": [],
   "source": [
    "BlueUrl = 'https://images.squarespace-cdn.com/content/v1/5a98653d96e76f7f7dc569c7/1652203207667-AHQD95AZ4Z1MCZ5B4C0N/shot_blue_marilyn_1964-19604.jpg?format=750w'\n",
    "\n",
    "with urllib.request.urlopen(BlueUrl) as response:\n",
    "    image_data = response.read()\n",
    "\n",
    "image_bytes = io.BytesIO(image_data)\n",
    "\n",
    "image = Image.open(image_bytes)\n",
    "\n",
    "blue = image.convert(\"RGB\") #gives image\n",
    "\n",
    "blue_array = np.array(blue) #gives matrix"
   ]
  },
  {
   "cell_type": "code",
   "execution_count": 6,
   "id": "ca936405",
   "metadata": {},
   "outputs": [],
   "source": [
    "EggUrl = 'https://images.squarespace-cdn.com/content/v1/5a98653d96e76f7f7dc569c7/1652203189304-UFR2YYN9605G0IW13YHJ/shot_eggblue_marilyn_1964-19604.png?format=750w'\n",
    "\n",
    "with urllib.request.urlopen(EggUrl) as response:\n",
    "    image_data = response.read()\n",
    "\n",
    "image_bytes = io.BytesIO(image_data)\n",
    "\n",
    "image = Image.open(image_bytes)\n",
    "\n",
    "egg = image.convert(\"RGB\") #gives image\n",
    "\n",
    "egg_array = np.array(egg) #gives matrix"
   ]
  },
  {
   "cell_type": "code",
   "execution_count": 7,
   "id": "dbb8882e",
   "metadata": {},
   "outputs": [],
   "source": [
    "# (try if the computation is too big) divide the image into n by n sections \n",
    "\n",
    "# convert all rgb values of the pixels into the bins (median value of bin range)\n",
    "\n",
    "#(0-15 16-31 32-47 48-63 64-79 80-95 96-111 112-127 128-143 144-159 160-175 176-191 192-207 208-223 224-239 240-255)\n",
    "bins = np.array([7.5,23.5,39.5,55.5,71.5,87.5,103.5,119.5,135.5,151.5,167.5,183.5,199.5,215.5,231.5,247.5])\n",
    "orange_binned = bins[np.digitize(orange_array,bins[1:])]\n",
    "red_binned = bins[np.digitize(red_array,bins[1:])]\n",
    "turq_binned = bins[np.digitize(turq_array,bins[1:])]\n",
    "blue_binned = bins[np.digitize(blue_array,bins[1:])]\n",
    "egg_binned = bins[np.digitize(egg_array,bins[1:])]"
   ]
  },
  {
   "cell_type": "code",
   "execution_count": 25,
   "id": "8c4e7a10",
   "metadata": {},
   "outputs": [],
   "source": [
    "# create variables orange_r, orange_g, orange_b \n",
    "bins = np.array([7.5,23.5,39.5,55.5,71.5,87.5,103.5,119.5,135.5,151.5,167.5,183.5,199.5,215.5,231.5,247.5])\n",
    "\n",
    "rgb = ['r','g','b']\n",
    "for i in range(3):\n",
    "    bins_rgb, orange_rgb = np.unique(orange_binned[:,:,i], return_counts=True)\n",
    "    orange_dict = dict(zip(bins_rgb, orange_rgb))\n",
    "    \n",
    "    for keys in bins:\n",
    "        if keys not in orange_dict:\n",
    "            orange_dict.setdefault(keys,1)\n",
    "            \n",
    "    globals()[f'orange_{rgb[i]}'] = list(orange_dict.values()) # initialize orange_r, orange_g, orange_b"
   ]
  },
  {
   "cell_type": "code",
   "execution_count": 26,
   "id": "35592fcd",
   "metadata": {},
   "outputs": [],
   "source": [
    "# create variables red_r, red_g, red_b\n",
    "bins = np.array([7.5,23.5,39.5,55.5,71.5,87.5,103.5,119.5,135.5,151.5,167.5,183.5,199.5,215.5,231.5,247.5])\n",
    "\n",
    "rgb = ['r','g','b']\n",
    "for i in range(3):\n",
    "    bins_rgb, red_rgb = np.unique(red_binned[:,:,i], return_counts=True)\n",
    "    red_dict = dict(zip(bins_rgb, red_rgb))\n",
    "    \n",
    "    for keys in bins:\n",
    "        if keys not in red_dict:\n",
    "            red_dict.setdefault(keys,1)\n",
    "            \n",
    "    globals()[f'red_{rgb[i]}'] = list(red_dict.values()) # initialize red_r, red_g, red_b"
   ]
  },
  {
   "cell_type": "code",
   "execution_count": 27,
   "id": "03baef13",
   "metadata": {},
   "outputs": [],
   "source": [
    "# create variables turq_r, turq_g, turq_b\n",
    "bins = np.array([7.5,23.5,39.5,55.5,71.5,87.5,103.5,119.5,135.5,151.5,167.5,183.5,199.5,215.5,231.5,247.5])\n",
    "\n",
    "rgb = ['r','g','b']\n",
    "for i in range(3):\n",
    "    bins_rgb, turq_rgb = np.unique(turq_binned[:,:,i], return_counts=True)\n",
    "    turq_dict = dict(zip(bins_rgb, turq_rgb))\n",
    "    \n",
    "    for keys in bins:\n",
    "        if keys not in turq_dict:\n",
    "            turq_dict.setdefault(keys,1)\n",
    "            \n",
    "    globals()[f'turq_{rgb[i]}'] = list(turq_dict.values()) # initialize turq_r, turq_g, turq_b"
   ]
  },
  {
   "cell_type": "code",
   "execution_count": 28,
   "id": "b44c233a",
   "metadata": {},
   "outputs": [],
   "source": [
    "# create variables blue_r, blue_g, blue_b \n",
    "bins = np.array([7.5,23.5,39.5,55.5,71.5,87.5,103.5,119.5,135.5,151.5,167.5,183.5,199.5,215.5,231.5,247.5])\n",
    "\n",
    "rgb = ['r','g','b']\n",
    "for i in range(3):\n",
    "    bins_rgb, blue_rgb = np.unique(blue_binned[:,:,i], return_counts=True)\n",
    "    blue_dict = dict(zip(bins_rgb, blue_rgb))\n",
    "    \n",
    "    for keys in bins:\n",
    "        if keys not in blue_dict:\n",
    "            blue_dict.setdefault(keys,1)\n",
    "            \n",
    "    globals()[f'blue_{rgb[i]}'] = list(blue_dict.values()) # initialize blue_r, blue_g, blue_b"
   ]
  },
  {
   "cell_type": "code",
   "execution_count": 29,
   "id": "70a208d6",
   "metadata": {},
   "outputs": [],
   "source": [
    "# create variables egg_r, egg_g, egg_b\n",
    "bins = np.array([7.5,23.5,39.5,55.5,71.5,87.5,103.5,119.5,135.5,151.5,167.5,183.5,199.5,215.5,231.5,247.5])\n",
    "\n",
    "rgb = ['r','g','b']\n",
    "for i in range(3):\n",
    "    bins_rgb, egg_rgb = np.unique(egg_binned[:,:,i], return_counts=True)\n",
    "    egg_dict = dict(zip(bins_rgb, egg_rgb))\n",
    "    \n",
    "    for keys in bins:\n",
    "        if keys not in egg_dict:\n",
    "            egg_dict.setdefault(keys,1)\n",
    "            \n",
    "    globals()[f'egg_{rgb[i]}'] = list(egg_dict.values()) # initialize egg_r, egg_g, egg_b"
   ]
  },
  {
   "cell_type": "code",
   "execution_count": 58,
   "id": "93edf49d",
   "metadata": {},
   "outputs": [
    {
     "name": "stderr",
     "output_type": "stream",
     "text": [
      "/var/folders/yv/yxyh0dv943s9f56xc2qxz6cc0000gn/T/ipykernel_81739/458450377.py:16: UserWarning: FixedFormatter should only be used together with FixedLocator\n",
      "  ax.set_xticklabels(['']+label)\n",
      "/var/folders/yv/yxyh0dv943s9f56xc2qxz6cc0000gn/T/ipykernel_81739/458450377.py:17: UserWarning: FixedFormatter should only be used together with FixedLocator\n",
      "  ax.set_yticklabels(['']+label)\n"
     ]
    },
    {
     "data": {
      "text/plain": [
       "Text(0.5, 1.0, 'Relative Entropy for RGB values in \"Orange\"')"
      ]
     },
     "execution_count": 58,
     "metadata": {},
     "output_type": "execute_result"
    },
    {
     "data": {
      "image/png": "[encoded data removed]",
      "text/plain": [
       "<Figure size 432x288 with 1 Axes>"
      ]
     },
     "metadata": {
      "needs_background": "light"
     },
     "output_type": "display_data"
    }
   ],
   "source": [
    "fig, ax = plt.subplots()\n",
    "min_val, max_val = 0, 3\n",
    "\n",
    "orange_entropy_matrix = np.array([[entropy(orange_r,orange_r),entropy(orange_r,orange_g),entropy(orange_r,orange_b)],\n",
    "                                  [entropy(orange_g,orange_r),entropy(orange_g,orange_g),entropy(orange_g,orange_b)],\n",
    "                                  [entropy(orange_b,orange_r),entropy(orange_b,orange_g),entropy(orange_b,orange_b)]])\n",
    "\n",
    "ax.matshow(orange_entropy_matrix, cmap=plt.cm.Oranges)\n",
    "\n",
    "for i in range(3):\n",
    "    for j in range(3):\n",
    "        c = str(round(orange_entropy_matrix[j,i], 3))\n",
    "        ax.text(i, j, str(c), va='center', ha='center')\n",
    "\n",
    "label = ['Red','Green','Blue']\n",
    "ax.set_xticklabels(['']+label)\n",
    "ax.set_yticklabels(['']+label)\n",
    "ax.set_title('Relative Entropy for RGB values in \"Orange\"')"
   ]
  },
  {
   "cell_type": "code",
   "execution_count": 59,
   "id": "dc57be4f",
   "metadata": {},
   "outputs": [
    {
     "name": "stderr",
     "output_type": "stream",
     "text": [
      "/var/folders/yv/yxyh0dv943s9f56xc2qxz6cc0000gn/T/ipykernel_81739/1047149224.py:16: UserWarning: FixedFormatter should only be used together with FixedLocator\n",
      "  ax.set_xticklabels(['']+label)\n",
      "/var/folders/yv/yxyh0dv943s9f56xc2qxz6cc0000gn/T/ipykernel_81739/1047149224.py:17: UserWarning: FixedFormatter should only be used together with FixedLocator\n",
      "  ax.set_yticklabels(['']+label)\n"
     ]
    },
    {
     "data": {
      "text/plain": [
       "Text(0.5, 1.0, 'Relative Entropy for RGB values in \"Red\"')"
      ]
     },
     "execution_count": 59,
     "metadata": {},
     "output_type": "execute_result"
    },
    {
     "data": {
      "image/png": "[encoded data removed]",
      "text/plain": [
       "<Figure size 432x288 with 1 Axes>"
      ]
     },
     "metadata": {
      "needs_background": "light"
     },
     "output_type": "display_data"
    }
   ],
   "source": [
    "fig, ax = plt.subplots()\n",
    "min_val, max_val = 0, 3\n",
    "\n",
    "red_entropy_matrix = np.array([[entropy(red_r,red_r),entropy(red_r,red_g),entropy(red_r,red_b)],\n",
    "                               [entropy(red_g,red_r),entropy(red_g,red_g),entropy(red_g,red_b)],\n",
    "                               [entropy(red_b,red_r),entropy(red_b,red_g),entropy(red_b,red_b)]])\n",
    "\n",
    "ax.matshow(red_entropy_matrix, cmap=plt.cm.Oranges)\n",
    "\n",
    "for i in range(3):\n",
    "    for j in range(3):\n",
    "        c = str(round(red_entropy_matrix[j,i], 3))\n",
    "        ax.text(i, j, str(c), va='center', ha='center')\n",
    "\n",
    "label = ['Red','Green','Blue']\n",
    "ax.set_xticklabels(['']+label)\n",
    "ax.set_yticklabels(['']+label)\n",
    "ax.set_title('Relative Entropy for RGB values in \"Red\"')"
   ]
  },
  {
   "cell_type": "code",
   "execution_count": 60,
   "id": "96d59e01",
   "metadata": {},
   "outputs": [
    {
     "name": "stderr",
     "output_type": "stream",
     "text": [
      "/var/folders/yv/yxyh0dv943s9f56xc2qxz6cc0000gn/T/ipykernel_81739/536406988.py:16: UserWarning: FixedFormatter should only be used together with FixedLocator\n",
      "  ax.set_xticklabels(['']+label)\n",
      "/var/folders/yv/yxyh0dv943s9f56xc2qxz6cc0000gn/T/ipykernel_81739/536406988.py:17: UserWarning: FixedFormatter should only be used together with FixedLocator\n",
      "  ax.set_yticklabels(['']+label)\n"
     ]
    },
    {
     "data": {
      "text/plain": [
       "Text(0.5, 1.0, 'Relative Entropy for RGB values in \"Turquoise\"')"
      ]
     },
     "execution_count": 60,
     "metadata": {},
     "output_type": "execute_result"
    },
    {
     "data": {
      "image/png": "[encoded data removed]",
      "text/plain": [
       "<Figure size 432x288 with 1 Axes>"
      ]
     },
     "metadata": {
      "needs_background": "light"
     },
     "output_type": "display_data"
    }
   ],
   "source": [
    "fig, ax = plt.subplots()\n",
    "min_val, max_val = 0, 3\n",
    "\n",
    "turq_entropy_matrix = np.array([[entropy(turq_r,turq_r),entropy(turq_r,turq_g),entropy(turq_r,turq_b)],\n",
    "                                [entropy(turq_g,turq_r),entropy(turq_g,turq_g),entropy(turq_g,turq_b)],\n",
    "                                [entropy(turq_b,turq_r),entropy(turq_b,turq_g),entropy(turq_b,turq_b)]])\n",
    "\n",
    "ax.matshow(turq_entropy_matrix, cmap=plt.cm.Oranges)\n",
    "\n",
    "for i in range(3):\n",
    "    for j in range(3):\n",
    "        c = str(round(turq_entropy_matrix[j,i], 3))\n",
    "        ax.text(i, j, str(c), va='center', ha='center')\n",
    "        \n",
    "label = ['Red','Green','Blue']\n",
    "ax.set_xticklabels(['']+label)\n",
    "ax.set_yticklabels(['']+label)\n",
    "ax.set_title('Relative Entropy for RGB values in \"Turquoise\"')"
   ]
  },
  {
   "cell_type": "code",
   "execution_count": 61,
   "id": "ae10690d",
   "metadata": {},
   "outputs": [
    {
     "name": "stderr",
     "output_type": "stream",
     "text": [
      "/var/folders/yv/yxyh0dv943s9f56xc2qxz6cc0000gn/T/ipykernel_81739/1268715014.py:16: UserWarning: FixedFormatter should only be used together with FixedLocator\n",
      "  ax.set_xticklabels(['']+label)\n",
      "/var/folders/yv/yxyh0dv943s9f56xc2qxz6cc0000gn/T/ipykernel_81739/1268715014.py:17: UserWarning: FixedFormatter should only be used together with FixedLocator\n",
      "  ax.set_yticklabels(['']+label)\n"
     ]
    },
    {
     "data": {
      "text/plain": [
       "Text(0.5, 1.0, 'Relative Entropy for RGB values in \"Blue\"')"
      ]
     },
     "execution_count": 61,
     "metadata": {},
     "output_type": "execute_result"
    },
    {
     "data": {
      "image/png": "[encoded data removed]",
      "text/plain": [
       "<Figure size 432x288 with 1 Axes>"
      ]
     },
     "metadata": {
      "needs_background": "light"
     },
     "output_type": "display_data"
    }
   ],
   "source": [
    "fig, ax = plt.subplots()\n",
    "min_val, max_val = 0, 3\n",
    "\n",
    "blue_entropy_matrix = np.array([[entropy(blue_r,blue_r),entropy(blue_r,blue_g),entropy(blue_r,blue_b)],\n",
    "                                [entropy(blue_g,blue_r),entropy(blue_g,blue_g),entropy(blue_g,blue_b)],\n",
    "                                [entropy(blue_b,blue_r),entropy(blue_b,blue_g),entropy(blue_b,blue_b)]])\n",
    "\n",
    "ax.matshow(blue_entropy_matrix, cmap=plt.cm.Oranges)\n",
    "\n",
    "for i in range(3):\n",
    "    for j in range(3):\n",
    "        c = str(round(blue_entropy_matrix[j,i], 3))\n",
    "        ax.text(i, j, str(c), va='center', ha='center')\n",
    "        \n",
    "label = ['Red','Green','Blue']\n",
    "ax.set_xticklabels(['']+label)\n",
    "ax.set_yticklabels(['']+label)\n",
    "ax.set_title('Relative Entropy for RGB values in \"Blue\"')"
   ]
  },
  {
   "cell_type": "code",
   "execution_count": 63,
   "id": "bf6224a1",
   "metadata": {},
   "outputs": [
    {
     "name": "stderr",
     "output_type": "stream",
     "text": [
      "/var/folders/yv/yxyh0dv943s9f56xc2qxz6cc0000gn/T/ipykernel_81739/1313506922.py:16: UserWarning: FixedFormatter should only be used together with FixedLocator\n",
      "  ax.set_xticklabels(['']+label)\n",
      "/var/folders/yv/yxyh0dv943s9f56xc2qxz6cc0000gn/T/ipykernel_81739/1313506922.py:17: UserWarning: FixedFormatter should only be used together with FixedLocator\n",
      "  ax.set_yticklabels(['']+label)\n"
     ]
    },
    {
     "data": {
      "text/plain": [
       "Text(0.5, 1.0, 'Relative Entropy for RGB values in \"Egg Blue\"')"
      ]
     },
     "execution_count": 63,
     "metadata": {},
     "output_type": "execute_result"
    },
    {
     "data": {
      "image/png": "[encoded data removed]",
      "text/plain": [
       "<Figure size 432x288 with 1 Axes>"
      ]
     },
     "metadata": {
      "needs_background": "light"
     },
     "output_type": "display_data"
    }
   ],
   "source": [
    "fig, ax = plt.subplots()\n",
    "min_val, max_val = 0, 3\n",
    "\n",
    "egg_entropy_matrix = np.array([[entropy(egg_r,egg_r),entropy(egg_r,egg_g),entropy(egg_r,egg_b)],\n",
    "                               [entropy(egg_g,egg_r),entropy(egg_g,egg_g),entropy(egg_g,egg_b)],\n",
    "                               [entropy(egg_b,egg_r),entropy(egg_b,egg_g),entropy(egg_b,egg_b)]])\n",
    "\n",
    "ax.matshow(egg_entropy_matrix, cmap=plt.cm.Oranges)\n",
    "\n",
    "for i in range(3):\n",
    "    for j in range(3):\n",
    "        c = str(round(egg_entropy_matrix[j,i], 3))\n",
    "        ax.text(i, j, str(c), va='center', ha='center')\n",
    "        \n",
    "label = ['Red','Green','Blue']\n",
    "ax.set_xticklabels(['']+label)\n",
    "ax.set_yticklabels(['']+label)\n",
    "ax.set_title('Relative Entropy for RGB values in \"Egg Blue\"')"
   ]
  }
 ],
 "metadata": {
  "kernelspec": {
   "display_name": "Python 3 (ipykernel)",
   "language": "python",
   "name": "python3"
  },
  "language_info": {
   "codemirror_mode": {
    "name": "ipython",
    "version": 3
   },
   "file_extension": ".py",
   "mimetype": "text/x-python",
   "name": "python",
   "nbconvert_exporter": "python",
   "pygments_lexer": "ipython3",
   "version": "3.9.7"
  }
 },
 "nbformat": 4,
 "nbformat_minor": 5
}
